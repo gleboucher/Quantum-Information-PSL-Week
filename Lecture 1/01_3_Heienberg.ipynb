{
 "cells": [
  {
   "cell_type": "markdown",
   "metadata": {},
   "source": [
    "# Heisenberg uncertainty principle"
   ]
  },
  {
   "cell_type": "markdown",
   "metadata": {},
   "source": [
    "\n",
    "## Introduction\n",
    "\n",
    "You have probably heard of the uncertainty principle, even outside of your physics courses. A common colloquial restatement of uncertainty is \"By looking at something, you influence it.\" That is certainly true. But a more physical way of describing uncertainty is that there are certain physical observables that have an incompatibility that prevents them both from being simultaneously known to arbitrary accuracy. Many students first encounter the pair of incompatible variables $x$ and $p_x$, meaning the position along one axis called the $x$-axis, and the linear momentum along that direction, respectively. For those variables the constraint on uncertainty is written\n",
    "$$\\Delta x \\Delta p_x \\geq \\frac{\\hbar}{2}.$$\n",
    "Here, $\\Delta x$ is called the \"uncertainty in $x$\", which has the same definition as standard deviation in statistics, and can be defined as\n",
    "$$\\Delta x = \\sqrt{\\langle x^2 \\rangle - \\langle x \\rangle^2}.$$\n",
    "$\\Delta p_x$ is defined in the same way.\n",
    "Here, we will not derive this uncertainty relation; we will point out that it is consistent with our understanding of classical waves. That is, a wave with truly one perfect frequency $f$ and wavelength $\\lambda$ would go on and on forever as a perfect sinusoid. Quantum mechanically, this would correspond to knowing the momentum perfectly according to de Broglie's hypothesis: $\\lambda = h/p$. But in order to know $where$ a wave-like particle is located, the wave describing it must become more sharply peaked in space, like a very narrow Gaussian, for example. We know that we can express any continuous function, including such sharply-peaked wave functions, as a Fourier series of sinusoidal functions with different wavelengths. But as the wave function becomes more sharply peaked (and the position is better known), we will require more terms in the Fourier series, meaning a mixture of more wavelengths (and thus, quantum mechanically, more values of momentum).\n",
    "\n",
    "Stated more simply: a state with a well-defined momentum (a perfect sinusoid in space) has very uncertain position. A state with a well-defined position (like a Dirac delta distribution) has a very uncertain momentum.\n",
    "\n",
    "There are other variables that exhibit such incompatibility. For example, a particle's spin may have a well-defined projection along one axis, but then we know nothing about the project on an orthogonal axis. For example the state $|0\\rangle \\sim |\\uparrow\\rangle$ (for a qubit or spin-1/2 particle) has a definite projection along the $z$ axis (of 1 in the context of a qubit, and of $\\hbar/2$ in the context of a spin-1/2 particle). But this state can be written as a superposition of two states each of which has a well-defined projection onto the $x$ axis:\n",
    "$$|0\\rangle = \\frac{1}{\\sqrt{2}}(|+\\rangle_x+|-\\rangle_x)$$\n",
    "or equivalently\n",
    "$$\\begin{pmatrix} 1 \\\\ 0\\end{pmatrix} = \\frac{1}{\\sqrt{2}}\\left[\\frac{1}{\\sqrt{2}}\\begin{pmatrix} 1 \\\\ 1\\end{pmatrix}+\\frac{1}{\\sqrt{2}}\\begin{pmatrix} 1 \\\\ -1\\end{pmatrix}\\right].$$\n",
    "$|+\\rangle_x$ has a well-defined projection onto $x$, as does $|-\\rangle_x$. So if we specify the projection of a state along the $x$ axis, we do not know the projection along the $z$ axis. And if we specify the projection on the $z$ axis, we don't know the projection along $x$. There are minor differences when discussing this in the context of spin and in qubits. But generally speaking, eigenstates of the Pauli matrices have an interesting relationship that we can explore.\n",
    "Throughout this lesson, we will be experimentally checking our intuition for the uncertainty in these incompatible variables, and verifying that uncertainty relations hold on IBM quantum computers."
   ]
  },
  {
   "cell_type": "markdown",
   "metadata": {},
   "source": [
    "Well, you may recall that the uncertainty relation between linear position and momentum could be written differently, explicitly using the commutation relation between the operators $x$ and $p_x$:\n",
    "$$\\Delta x \\Delta p_x \\geq \\frac{1}{2}|\\langle [x,p_x] \\rangle|$$\n",
    "where\n",
    "$$[x,p_x] = xp_x-p_xx$$\n",
    "is the commutator of $x$ and $p_x$.\n",
    "This is the form that that can be most easily extended to the Pauli operators. Generally, for two operators $A$ and $B$,\n",
    "$$\\Delta A \\Delta B \\geq \\frac{1}{2}|\\langle [A,B] \\rangle|.$$\n",
    "And in the case of the Pauli matrices $X$ and $Z$, we need $[X,Z]$ in order to calculate\n",
    "$$\\Delta X \\Delta Z \\geq \\frac{1}{2}|\\langle [X,Z] \\rangle|.$$\n",
    "We show this here, and leave similar calculations to the reader as an exercise:\n",
    "$$[X,Z] = XZ-ZX = \\begin{pmatrix}0 & 1 \\\\ 1 & 0\\end{pmatrix}\\begin{pmatrix}1 & 0 \\\\ 0 & -1\\end{pmatrix}-\\begin{pmatrix}1 & 0 \\\\ 0 & -1\\end{pmatrix}\\begin{pmatrix}0 & 1 \\\\ 1 & 0\\end{pmatrix}$$\n",
    "$$[X,Z] = \\begin{pmatrix}0 & -1 \\\\ 1 & 0\\end{pmatrix}-\\begin{pmatrix}0 & 1 \\\\ -1 & 0\\end{pmatrix} = 2\\begin{pmatrix}0 & -1 \\\\ 1 & 0\\end{pmatrix}$$\n",
    "This is a perfectly acceptable answer, but with one more step, we see\n",
    "$$[X,Z] = -2i\\begin{pmatrix}0 & -i \\\\ i & 0\\end{pmatrix}=-2iY$$\n",
    "Our uncertainty relation thus becomes\n",
    "$$\\Delta X \\Delta Z \\geq |\\langle Y \\rangle|.$$\n"
   ]
  },
  {
   "cell_type": "markdown",
   "metadata": {},
   "source": [
    "\n",
    "### Check-in question\n",
    "\n",
    "Determine $[X,Y]$ and $[Y,Z]$. Use this to write down the uncertainty relations between $X$ & $Y$, and $Y$ & $Z$.\n"
   ]
  },
  {
   "cell_type": "markdown",
   "metadata": {},
   "source": [
    "$[X,Y] = 2iZ$ \n",
    "\n",
    "$[Y,Z] = 2iX$\n",
    "\n",
    "\n",
    "$$\\Delta X \\Delta Y \\geq |\\langle Z \\rangle|$$\n",
    "$$\\Delta Y \\Delta Z \\geq |\\langle X \\rangle|$$"
   ]
  },
  {
   "cell_type": "markdown",
   "metadata": {},
   "source": [
    "\n",
    "### Verify consistency\n",
    "\n",
    "Before moving on, let us check that this was consistent with our previous finding. We used the state $|\\psi\\rangle = \\frac{1}{\\sqrt{2}}\\begin{pmatrix} 1 \\\\ 1 \\end{pmatrix}.$ And we found that $\\Delta X \\Delta Z  = 0.171.$ Now we know this product should be greater than or equal to\n",
    "$$|\\langle Y \\rangle|=\\frac{1}{\\sqrt{2}}\\begin{pmatrix} 1 & 1 \\end{pmatrix}\\begin{pmatrix}0 & -i \\\\ i & 0\\end{pmatrix}\\frac{1}{\\sqrt{2}}\\begin{pmatrix} 1 \\\\ 1 \\end{pmatrix}$$\n",
    "$$|\\langle Y \\rangle| = \\frac{1}{2}\\begin{pmatrix} 1 & 1 \\end{pmatrix}\\begin{pmatrix} -i \\\\ i \\end{pmatrix} = \\frac{1}{2}(-i+i) = 0.$$\n",
    "So indeed, $\\Delta X \\Delta Z  = 0.171 \\geq |\\langle Y \\rangle|=0$"
   ]
  },
  {
   "cell_type": "code",
   "execution_count": 1,
   "metadata": {},
   "outputs": [
    {
     "name": "stderr",
     "output_type": "stream",
     "text": [
      "/var/folders/wf/3snlfs053z5cdskpx0b4lfpm0000gn/T/ipykernel_6703/1161606435.py:8: DeprecationWarning: The class ``qiskit.primitives.backend_sampler.BackendSampler`` is deprecated as of qiskit 1.2. It will be removed no earlier than 3 months after the release date. All implementations of the `BaseSamplerV1` interface have been deprecated in favor of their V2 counterparts. The V2 alternative for the `BackendSampler` class is `BackendSamplerV2`.\n",
      "  sampler = BackendSampler(backend = backend_sim)\n"
     ]
    }
   ],
   "source": [
    "from qiskit_aer import AerSimulator\n",
    "from qiskit_ibm_runtime import Options, Session, SamplerV2 as Sampler\n",
    "backend_sim = AerSimulator()\n",
    "simulator = AerSimulator()\n",
    "\n",
    "#Import an estimator, this time from qiskit (we import from Runtime for real hardware)\n",
    "from qiskit.primitives import BackendSampler\n",
    "sampler = BackendSampler(backend = backend_sim)\n",
    "import numpy as np\n",
    "from qiskit.visualization import plot_bloch_vector, plot_histogram\n",
    "import matplotlib.pyplot as plt\n",
    "\n",
    "from qiskit.circuit import QuantumRegister, ClassicalRegister, QuantumCircuit, Parameter\n",
    "from qiskit import QuantumCircuit, transpile\n",
    "from qiskit.result import marginal_counts\n",
    "from qiskit.quantum_info import SparsePauliOp\n",
    "from qiskit_ibm_runtime import EstimatorV2 as Estimator\n",
    "\n",
    "\n",
    "import matplotlib.ticker as tck\n",
    "\n",
    "sim = AerSimulator()\n",
    "\n"
   ]
  },
  {
   "cell_type": "code",
   "execution_count": 2,
   "metadata": {},
   "outputs": [],
   "source": [
    "# Non commutative measurements\n",
    "# Exercise: Write a circuit that prepares a random state and measures it on the Z basis and then the X basis, and then vice-versa (X basis first, then Z basis) and compare the statistics\n",
    "\n",
    "# proposed solution\n",
    "def random_state():\n",
    "    # Random state\n",
    "    theta = np.random.uniform(0, 2*np.pi)\n",
    "    phi = np.random.uniform(0, np.pi)\n",
    "    psi = [np.cos(phi/2), np.exp(1j*theta)*np.sin(phi/2)]\n",
    "    return psi\n",
    "    \n",
    "psi0 = random_state()"
   ]
  },
  {
   "cell_type": "code",
   "execution_count": 3,
   "metadata": {},
   "outputs": [
    {
     "data": {
      "image/png": "[encoded data removed]",
      "text/plain": [
       "<Figure size 687.119x200.667 with 1 Axes>"
      ]
     },
     "execution_count": 3,
     "metadata": {},
     "output_type": "execute_result"
    }
   ],
   "source": [
    "\n",
    "# Circuit to measure in Z basis first, then X basis\n",
    "qr = QuantumRegister(1, 'q')\n",
    "cr = ClassicalRegister(2, 'c')\n",
    "qc = QuantumCircuit(qr, cr)\n",
    "\n",
    "qc.initialize(psi0)\n",
    "\n",
    "# Measure Z\n",
    "qc.measure(0,0)\n",
    "qc.barrier()\n",
    "\n",
    "#Second measurement on X\n",
    "qc.h(0)\n",
    "qc.measure(0,1)\n",
    "\n",
    "qc.draw('mpl')\n"
   ]
  },
  {
   "cell_type": "code",
   "execution_count": 4,
   "metadata": {},
   "outputs": [
    {
     "data": {
      "image/png": "[encoded data removed]",
      "text/plain": [
       "<Figure size 640x480 with 1 Axes>"
      ]
     },
     "execution_count": 4,
     "metadata": {},
     "output_type": "execute_result"
    }
   ],
   "source": [
    "sampler = Sampler(mode = backend_sim)\n",
    "\n",
    "num_shots = 1000\n",
    "\n",
    "# This runs the job\n",
    "dist = sampler.run([(qc,[],num_shots)]).result()\n",
    "\n",
    "# Extracting the counts\n",
    "counts=dist[0].data.c.get_counts()\n",
    "\n",
    "#plot_histogram(counts, title=\"Sz\")\n",
    "\n",
    "from qiskit.result import marginal_counts\n",
    "# The function marginal_counts extracts the statistics of the measurements inside of the brakets [1] in this case\n",
    "\n",
    "# marginal_counts(counts, [0]) --> marginal counts of the 1st measurement\n",
    "# marginal_counts(counts, [1]) --> marginal counts of the 2nd measurement\n",
    "# Example: \n",
    "plot_histogram(marginal_counts(counts, [0]), title='Z Measurement')"
   ]
  },
  {
   "cell_type": "code",
   "execution_count": 5,
   "metadata": {},
   "outputs": [
    {
     "data": {
      "image/png": "[encoded data removed]",
      "text/plain": [
       "<Figure size 770.731x200.667 with 1 Axes>"
      ]
     },
     "execution_count": 5,
     "metadata": {},
     "output_type": "execute_result"
    }
   ],
   "source": [
    "\n",
    "# Circuit to measure in X basis first, then Z basis\n",
    "qr = QuantumRegister(1, 'q')\n",
    "cr = ClassicalRegister(2, 'c')\n",
    "qc = QuantumCircuit(qr, cr)\n",
    "\n",
    "qc.initialize(psi0,0)\n",
    "\n",
    "# Measure X\n",
    "qc.h(0)\n",
    "\n",
    "qc.measure(0,0)\n",
    "qc.barrier()\n",
    "\n",
    "#Second measurement on Z\n",
    "qc.h(0)\n",
    "qc.measure(0,1)\n",
    "\n",
    "qc.draw('mpl')\n"
   ]
  },
  {
   "cell_type": "code",
   "execution_count": 6,
   "metadata": {},
   "outputs": [
    {
     "data": {
      "image/png": "[encoded data removed]",
      "text/plain": [
       "<Figure size 640x480 with 1 Axes>"
      ]
     },
     "execution_count": 6,
     "metadata": {},
     "output_type": "execute_result"
    }
   ],
   "source": [
    "sampler = Sampler(mode = backend_sim)\n",
    "\n",
    "num_shots = 1000\n",
    "\n",
    "# This runs the job\n",
    "dist = sampler.run([(qc,[],num_shots)]).result()\n",
    "\n",
    "# Extracting the counts\n",
    "counts=dist[0].data.c.get_counts()\n",
    "\n",
    "#plot_histogram(counts, title=\"Sz\")\n",
    "\n",
    "from qiskit.result import marginal_counts\n",
    "# The function marginal_counts extracts the statistics of the measurements inside of the brakets [1] in this case\n",
    "\n",
    "# marginal_counts(counts, [0]) --> marginal counts of the 1st measurement\n",
    "# marginal_counts(counts, [1]) --> marginal counts of the 2nd measurement\n",
    "# Example: \n",
    "plot_histogram(marginal_counts(counts, [1]), title='Z Measurement after X')"
   ]
  },
  {
   "cell_type": "markdown",
   "metadata": {},
   "source": [
    "#### Checking uncertainty principle with X,Z \n",
    "$$\n",
    "\\Delta X \\Delta Y \\geq 1/2 |\\langle[X,Y] \\rangle|\n",
    "$$"
   ]
  },
  {
   "cell_type": "markdown",
   "metadata": {},
   "source": [
    "We can quantify this using uncertainty, or variance. The \"uncertainty\" is often defined to be the square root of the \"variance\" of a distribution. That is, the uncertainty for some observable $S$ is denoted $\\Delta S$ and is given by\n",
    "\n",
    "$$(\\Delta S)^2 \\equiv \\langle (S - \\langle S \\rangle)^2 \\rangle$$\n",
    "$$(\\Delta S)^2 = \\langle S^2 - 2 S \\langle S \\rangle +\\langle S \\rangle^2 \\rangle$$\n",
    "$$(\\Delta S)^2 = \\langle S^2 \\rangle - \\langle S \\rangle^2$$\n",
    "\n",
    "For the case of Pauli matrices, for which $S^2 = I$, this becomes\n",
    "\n",
    "$$(\\Delta S)^2 = 1 - \\langle S \\rangle^2$$\n",
    "\n",
    "Let's apply this to a concrete example. Let's start with the state $|\\psi\\rangle |+\\rangle_y = \\frac{1}{\\sqrt{2}}\\begin{pmatrix} 1 \\\\ i \\end{pmatrix},$ and let's determine the uncertainty of the observable $X$ in that state.\n",
    "\n",
    "We can create an arbitrary initial state using ```qc.initialize()```. Note that the syntax for the imaginary unit here is $1j$.\n",
    "\n",
    "### Check-in question: \n",
    "\n",
    "Calculate the uncertainty of $X$ in the state $|+\\rangle_y = |+i\\rangle$, by hand.\n",
    "\n",
    "<details>\n",
    "<summary>Answer:</summary>\n",
    "\n",
    "$$\\Delta X =\\sqrt{\\langle+i| X^2 |+i\\rangle - \\langle+i| X |+i\\rangle^2}$$\n",
    "In the given state, this yields:\n",
    "$$\\Delta X =\\sqrt{\\frac{1}{\\sqrt{2}}\\begin{pmatrix}1 & -i\\end{pmatrix} \\begin{pmatrix}0 & 1 \\\\ 1 & 0\\end{pmatrix} \\begin{pmatrix}0 & 1 \\\\ 1 & 0\\end{pmatrix} \\frac{1}{\\sqrt{2}}\\begin{pmatrix}1 \\\\ i\\end{pmatrix} - \\left(\\frac{1}{\\sqrt{2}}\\begin{pmatrix}1 & -i\\end{pmatrix} \\begin{pmatrix}0 & 1 \\\\ 1 & 0\\end{pmatrix} \\frac{1}{\\sqrt{2}}\\begin{pmatrix}1 \\\\ i\\end{pmatrix}\\right)^2}$$\n",
    "$$\\Delta X =\\sqrt{\\frac{1}{2}\\begin{pmatrix}1 & -i\\end{pmatrix} \\begin{pmatrix}1 & 0 \\\\ 0 & 1\\end{pmatrix} \\begin{pmatrix}1 \\\\ i\\end{pmatrix} - \\left(\\frac{1}{2}\\begin{pmatrix}1 & -i\\end{pmatrix} \\begin{pmatrix}i \\\\ 1\\end{pmatrix}\\right)^2}$$\n",
    "$$\\Delta X =\\sqrt{\\frac{1}{2}\\begin{pmatrix}1 & -i\\end{pmatrix} \\begin{pmatrix}1 \\\\ i\\end{pmatrix} - \\left(\\frac{1}{2}(0))\\right)^2}$$\n",
    "$$\\Delta X =\\sqrt{\\frac{1}{2}(2)} = 1$$\n",
    "\n",
    "</details>"
   ]
  },
  {
   "cell_type": "markdown",
   "metadata": {},
   "source": [
    "### In order to do so we need three different experiments: one to compute the deviation of the measurements, and one to compute the expectation value of the commutator.\n"
   ]
  },
  {
   "cell_type": "markdown",
   "metadata": {},
   "source": [
    "### Estimate $\\Delta X$"
   ]
  },
  {
   "cell_type": "code",
   "execution_count": 7,
   "metadata": {},
   "outputs": [
    {
     "data": {
      "image/png": "[encoded data removed]",
      "text/plain": [
       "<Figure size 519.897x200.667 with 1 Axes>"
      ]
     },
     "metadata": {},
     "output_type": "display_data"
    },
    {
     "name": "stdout",
     "output_type": "stream",
     "text": [
      "delta_X=0.93\n"
     ]
    },
    {
     "data": {
      "image/png": "[encoded data removed]",
      "text/plain": [
       "<Figure size 436.286x200.667 with 1 Axes>"
      ]
     },
     "metadata": {},
     "output_type": "display_data"
    },
    {
     "name": "stdout",
     "output_type": "stream",
     "text": [
      "delta_Z=0.42\n"
     ]
    },
    {
     "data": {
      "image/png": "[encoded data removed]",
      "text/plain": [
       "<Figure size 603.508x200.667 with 1 Axes>"
      ]
     },
     "metadata": {},
     "output_type": "display_data"
    },
    {
     "name": "stdout",
     "output_type": "stream",
     "text": [
      "{'1': 6909, '0': 3091}\n",
      "np.abs(mean_Y)=0.38\n",
      "Checking the inequality:\n",
      "delta_X*delta_Z=0.40\n"
     ]
    }
   ],
   "source": [
    "import matplotlib.pyplot as plt\n",
    "# Let's verify Heisenberg's uncertainty principle \n",
    "\n",
    "# Exercise: Compute the standard deviation of the results of Z , and then of X, and compare the results with the expectation value of Y\n",
    "\n",
    "#psi0 = psi0\n",
    "# Circuit to measure X\n",
    "qr = QuantumRegister(1, 'q')\n",
    "cr = ClassicalRegister(1, 'c')\n",
    "qc = QuantumCircuit(qr, cr)\n",
    "\n",
    "qc.initialize(psi0,0)\n",
    "\n",
    "#Measure X\n",
    "qc.h(0)\n",
    "qc.measure(0,0)\n",
    "\n",
    "display(qc.draw('mpl'))\n",
    "\n",
    "# Simulation of X, and computation of the standard deviation (remember that measuring 0, corresponds to having measured the eigenvalue -1)\n",
    "N=10000\n",
    "results = sim.run(qc,shots=N).result().get_counts()\n",
    "\n",
    "mean = (-1*results['0'] + results['1'])/N\n",
    "mean_of_square = 1\n",
    "delta_X = np.sqrt(1 - mean**2)\n",
    "\n",
    "print(f\"{delta_X=:.2f}\")\n",
    "\n",
    "# Circuit to measure Z\n",
    "qr = QuantumRegister(1, 'q')\n",
    "cr = ClassicalRegister(1, 'c')\n",
    "qc = QuantumCircuit(qr, cr)\n",
    "\n",
    "qc.initialize(psi0)\n",
    "# Simulation of Z, and computation of the standard deviation (remember that measuring 0, corresponds to having measured the eigenvalue -1)\n",
    "\n",
    "\n",
    "# Measure Z\n",
    "qc.measure(0,0)\n",
    "\n",
    "display(qc.draw('mpl'))\n",
    "\n",
    "results = sim.run(qc,shots=N).result().get_counts()\n",
    "\n",
    "mean = (-1*results['0'] + results['1'])/N\n",
    "mean_of_square = 1\n",
    "delta_Z = np.sqrt(1 - mean**2)\n",
    "\n",
    "print(f\"{delta_Z=:.2f}\")\n",
    "\n",
    "# Circuit to measure Y\n",
    "qr = QuantumRegister(1, 'q')\n",
    "cr = ClassicalRegister(1, 'c')\n",
    "qc = QuantumCircuit(qr, cr)\n",
    "\n",
    "qc.initialize(psi0,0)\n",
    "\n",
    "#Measure Y\n",
    "#qc.sdg(0)\n",
    "qc.h(0)\n",
    "qc.s(0)\n",
    "qc.measure(0,0)\n",
    "\n",
    "display(qc.draw('mpl'))\n",
    "\n",
    "results = sim.run(qc,shots=N).result().get_counts()\n",
    "print(results)\n",
    "\n",
    "mean_Y = (-1*results['0'] + results['1'])/N\n",
    "\n",
    "print(f\"{np.abs(mean_Y)=:.2f}\")\n",
    "\n",
    "print(\"Checking the inequality:\")\n",
    "\n",
    "print(f\"{delta_X*delta_Z=:.2f}\")\n"
   ]
  },
  {
   "cell_type": "markdown",
   "metadata": {},
   "source": [
    "# Let's now loop through the Bloch sphere\n",
    "\n",
    "Consider a generic qubit state:\n",
    "\n",
    "$$\n",
    "|\\psi\\rangle = \\cos(\\theta/2)|0\\rangle + e^{i\\phi}\\sin(\\theta/2)|1\\rangle\n",
    "$$\n",
    "\n",
    "where we fix $\\phi$ and sweep $\\theta$"
   ]
  },
  {
   "cell_type": "code",
   "execution_count": 8,
   "metadata": {},
   "outputs": [],
   "source": [
    "# Exercise: test the validity of the Heisenberg uncertainty principle by computing the standard deviations of Z and X, and the expectation value of Y for a range of θ values\n",
    "shots = 1000 # Number of shots\n",
    "phi = np.pi/2\n",
    "theta_range = np.linspace(0, 2*np.pi, 25)\n",
    "\n"
   ]
  },
  {
   "cell_type": "code",
   "execution_count": 9,
   "metadata": {},
   "outputs": [],
   "source": [
    "# Check that even for few samples, the uncertainty principle is satisfied withing the statistical error"
   ]
  },
  {
   "cell_type": "code",
   "execution_count": 10,
   "metadata": {},
   "outputs": [],
   "source": [
    "# Using the codes from the previous exercises, run the same circuits on a quantum computer!"
   ]
  },
  {
   "cell_type": "markdown",
   "metadata": {},
   "source": [
    "### As you sample through your measurements the accuracy of your estimation of the expectation value will actually decrease with the number of samples.\n",
    "#### The accuracy of the estimation is given by:\n",
    "\n",
    "$$\n",
    "\\sigma^2_{est} = \\sigma^2_{measure}/N\n",
    "$$\n",
    "\n",
    "If you want to know more https://en.wikipedia.org/wiki/Estimator"
   ]
  },
  {
   "cell_type": "markdown",
   "metadata": {},
   "source": [
    "# Run it now on a QPU"
   ]
  },
  {
   "cell_type": "code",
   "execution_count": 11,
   "metadata": {},
   "outputs": [
    {
     "name": "stdout",
     "output_type": "stream",
     "text": [
      "ibm_kyiv\n"
     ]
    }
   ],
   "source": [
    "# transpiling the circuits\n",
    "from qiskit_ibm_runtime import QiskitRuntimeService\n",
    "# Let s find the least busy backend\n",
    "service = QiskitRuntimeService(channel='ibm_quantum')\n",
    "backend = service.least_busy()\n",
    "print(backend.name)\n",
    "sampler = Sampler(mode=backend)\n",
    "sampler.options.default_shots = 100\n",
    "\n",
    "from qiskit.transpiler.preset_passmanagers import generate_preset_pass_manager\n",
    "pm = generate_preset_pass_manager(optimization_level=3, backend=backend) \n"
   ]
  },
  {
   "cell_type": "code",
   "execution_count": 14,
   "metadata": {},
   "outputs": [
    {
     "data": {
      "text/plain": [
       "<qiskit.circuit.instructionset.InstructionSet at 0x31ec08670>"
      ]
     },
     "execution_count": 14,
     "metadata": {},
     "output_type": "execute_result"
    }
   ],
   "source": [
    "# Define your parametric circuits on Theta\n",
    "theta = Parameter('θ')\n",
    "\n",
    "# qc_z\n",
    "qc_z = QuantumCircuit(1, 1)\n",
    "\n",
    "# qc_x\n",
    "qc_x = QuantumCircuit(1, 1)\n",
    "qc_x.h(0)\n",
    "# qc_y\n",
    "qc_y = QuantumCircuit(1, 1)\n",
    "qc_y.s(0)\n",
    "qc_y.h(0)"
   ]
  },
  {
   "cell_type": "code",
   "execution_count": 15,
   "metadata": {},
   "outputs": [],
   "source": [
    "# transpiling the circuits\n",
    "from qiskit.transpiler.preset_passmanagers import generate_preset_pass_manager\n",
    "pm = generate_preset_pass_manager(optimization_level=3, backend=backend)\n",
    "\n",
    "qc_z_transpiled = pm.run(qc_z)\n",
    "qc_x_transpiled = pm.run(qc_x)\n",
    "qc_y_transpiled = pm.run(qc_y)"
   ]
  },
  {
   "cell_type": "code",
   "execution_count": 16,
   "metadata": {},
   "outputs": [],
   "source": [
    "theta_values = np.linspace(0, np.pi, 10)"
   ]
  },
  {
   "cell_type": "code",
   "execution_count": 20,
   "metadata": {},
   "outputs": [
    {
     "ename": "ValueError",
     "evalue": "Length of () inconsistent with last dimension of [0.         0.34906585 0.6981317  1.04719755 1.3962634  1.74532925\n 2.0943951  2.44346095 2.7925268  3.14159265]",
     "output_type": "error",
     "traceback": [
      "\u001b[0;31m---------------------------------------------------------------------------\u001b[0m",
      "\u001b[0;31mValueError\u001b[0m                                Traceback (most recent call last)",
      "Cell \u001b[0;32mIn[20], line 3\u001b[0m\n\u001b[1;32m      1\u001b[0m shots \u001b[38;5;241m=\u001b[39m \u001b[38;5;241m1_000\u001b[39m\n\u001b[0;32m----> 3\u001b[0m job \u001b[38;5;241m=\u001b[39m \u001b[43msampler\u001b[49m\u001b[38;5;241;43m.\u001b[39;49m\u001b[43mrun\u001b[49m\u001b[43m(\u001b[49m\u001b[43m[\u001b[49m\u001b[43m \u001b[49m\u001b[43m(\u001b[49m\u001b[43mqc_y_transpiled\u001b[49m\u001b[43m,\u001b[49m\u001b[43m \u001b[49m\u001b[43mtheta_values\u001b[49m\u001b[43m)\u001b[49m\u001b[43m]\u001b[49m\u001b[43m,\u001b[49m\u001b[43m \u001b[49m\u001b[43mshots\u001b[49m\u001b[38;5;241;43m=\u001b[39;49m\u001b[43mshots\u001b[49m\u001b[43m)\u001b[49m\n\u001b[1;32m      4\u001b[0m \u001b[38;5;28mprint\u001b[39m(\u001b[38;5;124mf\u001b[39m\u001b[38;5;124m\"\u001b[39m\u001b[38;5;124m>>> Job ID: \u001b[39m\u001b[38;5;132;01m{\u001b[39;00mjob\u001b[38;5;241m.\u001b[39mjob_id()\u001b[38;5;132;01m}\u001b[39;00m\u001b[38;5;124m\"\u001b[39m)\n\u001b[1;32m      5\u001b[0m \u001b[38;5;28mprint\u001b[39m(\u001b[38;5;124mf\u001b[39m\u001b[38;5;124m\"\u001b[39m\u001b[38;5;124m>>> Job Status: \u001b[39m\u001b[38;5;132;01m{\u001b[39;00mjob\u001b[38;5;241m.\u001b[39mstatus()\u001b[38;5;132;01m}\u001b[39;00m\u001b[38;5;124m\"\u001b[39m)\n",
      "File \u001b[0;32m~/anaconda3/envs/QC/lib/python3.12/site-packages/qiskit_ibm_runtime/sampler.py:106\u001b[0m, in \u001b[0;36mSamplerV2.run\u001b[0;34m(self, pubs, shots)\u001b[0m\n\u001b[1;32m     88\u001b[0m \u001b[38;5;28;01mdef\u001b[39;00m\u001b[38;5;250m \u001b[39m\u001b[38;5;21mrun\u001b[39m(\u001b[38;5;28mself\u001b[39m, pubs: Iterable[SamplerPubLike], \u001b[38;5;241m*\u001b[39m, shots: \u001b[38;5;28mint\u001b[39m \u001b[38;5;241m|\u001b[39m \u001b[38;5;28;01mNone\u001b[39;00m \u001b[38;5;241m=\u001b[39m \u001b[38;5;28;01mNone\u001b[39;00m) \u001b[38;5;241m-\u001b[39m\u001b[38;5;241m>\u001b[39m RuntimeJobV2:\n\u001b[1;32m     89\u001b[0m \u001b[38;5;250m    \u001b[39m\u001b[38;5;124;03m\"\"\"Submit a request to the sampler primitive.\u001b[39;00m\n\u001b[1;32m     90\u001b[0m \n\u001b[1;32m     91\u001b[0m \u001b[38;5;124;03m    Args:\u001b[39;00m\n\u001b[0;32m   (...)\u001b[0m\n\u001b[1;32m    104\u001b[0m \u001b[38;5;124;03m        ValueError: Invalid arguments are given.\u001b[39;00m\n\u001b[1;32m    105\u001b[0m \u001b[38;5;124;03m    \"\"\"\u001b[39;00m\n\u001b[0;32m--> 106\u001b[0m     coerced_pubs \u001b[38;5;241m=\u001b[39m [\u001b[43mSamplerPub\u001b[49m\u001b[38;5;241;43m.\u001b[39;49m\u001b[43mcoerce\u001b[49m\u001b[43m(\u001b[49m\u001b[43mpub\u001b[49m\u001b[43m,\u001b[49m\u001b[43m \u001b[49m\u001b[43mshots\u001b[49m\u001b[43m)\u001b[49m \u001b[38;5;28;01mfor\u001b[39;00m pub \u001b[38;5;129;01min\u001b[39;00m pubs]\n\u001b[1;32m    108\u001b[0m     validate_classical_registers(coerced_pubs)\n\u001b[1;32m    110\u001b[0m     \u001b[38;5;28;01mreturn\u001b[39;00m \u001b[38;5;28mself\u001b[39m\u001b[38;5;241m.\u001b[39m_run(coerced_pubs)\n",
      "File \u001b[0;32m~/anaconda3/envs/QC/lib/python3.12/site-packages/qiskit/primitives/containers/sampler_pub.py:135\u001b[0m, in \u001b[0;36mSamplerPub.coerce\u001b[0;34m(cls, pub, shots)\u001b[0m\n\u001b[1;32m    133\u001b[0m     \u001b[38;5;28;01mif\u001b[39;00m \u001b[38;5;129;01mnot\u001b[39;00m \u001b[38;5;28misinstance\u001b[39m(values, (BindingsArray, Mapping)):\n\u001b[1;32m    134\u001b[0m         values \u001b[38;5;241m=\u001b[39m {\u001b[38;5;28mtuple\u001b[39m(circuit\u001b[38;5;241m.\u001b[39mparameters): values}\n\u001b[0;32m--> 135\u001b[0m     parameter_values \u001b[38;5;241m=\u001b[39m \u001b[43mBindingsArray\u001b[49m\u001b[38;5;241;43m.\u001b[39;49m\u001b[43mcoerce\u001b[49m\u001b[43m(\u001b[49m\u001b[43mvalues\u001b[49m\u001b[43m)\u001b[49m\n\u001b[1;32m    136\u001b[0m \u001b[38;5;28;01melse\u001b[39;00m:\n\u001b[1;32m    137\u001b[0m     parameter_values \u001b[38;5;241m=\u001b[39m \u001b[38;5;28;01mNone\u001b[39;00m\n",
      "File \u001b[0;32m~/anaconda3/envs/QC/lib/python3.12/site-packages/qiskit/primitives/containers/bindings_array.py:300\u001b[0m, in \u001b[0;36mBindingsArray.coerce\u001b[0;34m(cls, bindings_array)\u001b[0m\n\u001b[1;32m    298\u001b[0m     bindings_array \u001b[38;5;241m=\u001b[39m \u001b[38;5;28mcls\u001b[39m()\n\u001b[1;32m    299\u001b[0m \u001b[38;5;28;01melif\u001b[39;00m \u001b[38;5;28misinstance\u001b[39m(bindings_array, _Mapping):\n\u001b[0;32m--> 300\u001b[0m     bindings_array \u001b[38;5;241m=\u001b[39m \u001b[38;5;28;43mcls\u001b[39;49m\u001b[43m(\u001b[49m\u001b[43mdata\u001b[49m\u001b[38;5;241;43m=\u001b[39;49m\u001b[43mbindings_array\u001b[49m\u001b[43m)\u001b[49m\n\u001b[1;32m    301\u001b[0m \u001b[38;5;28;01melif\u001b[39;00m \u001b[38;5;28misinstance\u001b[39m(bindings_array, BindingsArray):\n\u001b[1;32m    302\u001b[0m     \u001b[38;5;28;01mreturn\u001b[39;00m bindings_array\n",
      "File \u001b[0;32m~/anaconda3/envs/QC/lib/python3.12/site-packages/qiskit/primitives/containers/bindings_array.py:130\u001b[0m, in \u001b[0;36mBindingsArray.__init__\u001b[0;34m(self, data, shape)\u001b[0m\n\u001b[1;32m    127\u001b[0m \u001b[38;5;28mself\u001b[39m\u001b[38;5;241m.\u001b[39m_shape \u001b[38;5;241m=\u001b[39m _infer_shape(\u001b[38;5;28mself\u001b[39m\u001b[38;5;241m.\u001b[39m_data) \u001b[38;5;28;01mif\u001b[39;00m shape \u001b[38;5;129;01mis\u001b[39;00m \u001b[38;5;28;01mNone\u001b[39;00m \u001b[38;5;28;01melse\u001b[39;00m shape_tuple(shape)\n\u001b[1;32m    128\u001b[0m \u001b[38;5;28mself\u001b[39m\u001b[38;5;241m.\u001b[39m_num_parameters \u001b[38;5;241m=\u001b[39m \u001b[38;5;28;01mNone\u001b[39;00m\n\u001b[0;32m--> 130\u001b[0m \u001b[38;5;28;43mself\u001b[39;49m\u001b[38;5;241;43m.\u001b[39;49m\u001b[43mvalidate\u001b[49m\u001b[43m(\u001b[49m\u001b[43m)\u001b[49m\n",
      "File \u001b[0;32m~/anaconda3/envs/QC/lib/python3.12/site-packages/qiskit/primitives/containers/bindings_array.py:312\u001b[0m, in \u001b[0;36mBindingsArray.validate\u001b[0;34m(self)\u001b[0m\n\u001b[1;32m    310\u001b[0m val \u001b[38;5;241m=\u001b[39m \u001b[38;5;28mself\u001b[39m\u001b[38;5;241m.\u001b[39m_data[parameters] \u001b[38;5;241m=\u001b[39m _standardize_shape(val, \u001b[38;5;28mself\u001b[39m\u001b[38;5;241m.\u001b[39m_shape)\n\u001b[1;32m    311\u001b[0m \u001b[38;5;28;01mif\u001b[39;00m \u001b[38;5;28mlen\u001b[39m(parameters) \u001b[38;5;241m!=\u001b[39m val\u001b[38;5;241m.\u001b[39mshape[\u001b[38;5;241m-\u001b[39m\u001b[38;5;241m1\u001b[39m]:\n\u001b[0;32m--> 312\u001b[0m     \u001b[38;5;28;01mraise\u001b[39;00m \u001b[38;5;167;01mValueError\u001b[39;00m(\n\u001b[1;32m    313\u001b[0m         \u001b[38;5;124mf\u001b[39m\u001b[38;5;124m\"\u001b[39m\u001b[38;5;124mLength of \u001b[39m\u001b[38;5;132;01m{\u001b[39;00mparameters\u001b[38;5;132;01m}\u001b[39;00m\u001b[38;5;124m inconsistent with last dimension of \u001b[39m\u001b[38;5;132;01m{\u001b[39;00mval\u001b[38;5;132;01m}\u001b[39;00m\u001b[38;5;124m\"\u001b[39m\n\u001b[1;32m    314\u001b[0m     )\n",
      "\u001b[0;31mValueError\u001b[0m: Length of () inconsistent with last dimension of [0.         0.34906585 0.6981317  1.04719755 1.3962634  1.74532925\n 2.0943951  2.44346095 2.7925268  3.14159265]"
     ]
    }
   ],
   "source": [
    "shots = 1_000\n",
    "\n",
    "job = sampler.run([(qc_z_transpiled,theta_values), (qc_x_transpiled, theta_values), (qc_y_transpiled, theta_values)], shots=shots)\n",
    "print(f\">>> Job ID: {job.job_id()}\")\n",
    "print(f\">>> Job Status: {job.status()}\")"
   ]
  },
  {
   "cell_type": "code",
   "execution_count": null,
   "metadata": {},
   "outputs": [],
   "source": [
    "print(f\">>> Job Status: {job.status()}\")\n",
    "result= job.result()\n",
    "result[0].data.c[2].get_counts()"
   ]
  },
  {
   "cell_type": "code",
   "execution_count": null,
   "metadata": {},
   "outputs": [],
   "source": [
    "import pandas as pd\n",
    "data = []\n",
    "\n",
    "for i, theta in enumerate(theta_values):\n",
    "    print(i)\n",
    "\n",
    "    def fill_counts(counts):\n",
    "        return {'0': counts.get('0', 0), '1': counts.get('1', 0)}\n",
    "\n",
    "    counts_z = fill_counts(result[0].data.c[i].get_counts())\n",
    "    E_z = (counts_z['0'] - counts_z['1']) / shots\n",
    "    Delta_z = np.sqrt(1 - E_z**2)\n",
    "\n",
    "    counts_x = fill_counts(result[1].data.c[i].get_counts())\n",
    "    E_x = (counts_x['0'] - counts_x['1']) / shots\n",
    "    Delta_x = np.sqrt(1 - E_x**2)\n",
    "\n",
    "    counts_y = fill_counts(result[2].data.c[i].get_counts())\n",
    "    E_y = (counts_y['0'] - counts_y['1']) / shots\n",
    "    Delta_y = np.sqrt(1 - E_y**2)\n",
    "\n",
    "    # Store the results in a list\n",
    "    data.append({\n",
    "        'theta': theta, 'E_z': E_z, 'Delta_z': Delta_z,\n",
    "        'E_x': E_x, 'Delta_x': Delta_x, 'E_y': E_y, 'Delta_y': Delta_y\n",
    "    })\n",
    "\n",
    "# Convert to DataFrame\n",
    "df = pd.DataFrame(data)\n",
    "\n",
    "# Compute additional columns\n",
    "df['DeltaXDeltaZ'] = df['Delta_x'] * df['Delta_z']\n",
    "df['HalfEy'] = 0.5 * np.abs(df['E_y'])\n",
    "\n",
    "# # Display the DataFrame\n",
    "# import ace_tools as tools\n",
    "# tools.display_dataframe_to_user(name=\"Quantum Data\", dataframe=df)\n",
    "\n",
    "# Plot the data\n",
    "plt.figure(figsize=(10, 6))\n",
    "plt.plot(df['theta'], df['Delta_x'], label='ΔX')\n",
    "plt.plot(df['theta'], df['Delta_z'], label='ΔZ')\n",
    "plt.plot(df['theta'], df['DeltaXDeltaZ'], label='ΔX * ΔZ')\n",
    "plt.plot(df['theta'], df['HalfEy'], label='1/2 E_y', linestyle='dashed')\n",
    "\n",
    "plt.xlabel('Theta')\n",
    "plt.ylabel('Values')\n",
    "plt.title('Quantum Measurements')\n",
    "plt.legend()\n",
    "plt.grid()\n",
    "plt.show()\n",
    "    "
   ]
  }
 ],
 "metadata": {
  "kernelspec": {
   "display_name": "Python 3 (ipykernel)",
   "language": "python",
   "name": "python3"
  },
  "language_info": {
   "codemirror_mode": {
    "name": "ipython",
    "version": 3
   },
   "file_extension": ".py",
   "mimetype": "text/x-python",
   "name": "python",
   "nbconvert_exporter": "python",
   "pygments_lexer": "ipython3",
   "version": "3.12.9"
  }
 },
 "nbformat": 4,
 "nbformat_minor": 4
}
